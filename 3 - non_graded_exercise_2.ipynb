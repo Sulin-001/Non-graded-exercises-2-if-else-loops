{
 "cells": [
  {
   "cell_type": "markdown",
   "metadata": {},
   "source": [
    "Write a simple game with the following requirements:\n",
    "\n",
    "1. Print a welcome message that says \"Welcome to Hangman\"\n",
    "2. Store a list of different words that can be used in the game. When the game starts, pick one word randomly. For now, use a list of only single words. \n",
    "3. Display that random word to the user, but display it only as '_' (underscores). e.g., if the word is 'Alice', then only _ _ _ _ _ should be displayed. \n",
    "3. Keep asking the user to guess the word one letter at a time until either the user guesses it correctly, or they run out of total 10 attempts. \n",
    "    3.1. Print how many attempts are left\n",
    "    3.2. Print the current state of the guessed word\n",
    "    3.3. Ask the user enter a single letter\n",
    "    3.4 Every time the user enters something, check that the input is only alphabet and not numbers or special characters. If the user enters such a character, tell the user \"Invalid Character\" and ask the user to try again. \n",
    "    3.5. Keep track of all the letters that the user has entered while playing the game\n",
    "    3.6. If the user enters a letter that was already entered before, inform the user. \n",
    "    3.7. Every time the user makes an incorrect guess, the number of total attempts must be decreased by 1. \n",
    "    3.8. Every time the user makes a correct guess, inform the user that it was correct, fill the word with that letter and continue. For example, if the user enters 'i' when trying to guess the word 'Alice', display to the user _ _ i _ _\n",
    "    3.9 If the entire word has been guessed correctly, display the message \"Awesome! You guessed the word correctly\".\n",
    "4. After the game ends, display \"Thank you for playing. See you next time\" if the user was able to guess the word correctly. Otherwise, display \"Thank you for playing. Better luck next time\" if the user could not guess the word and the number of total attempts is 0. \n",
    "\n",
    "After your have finished writing the program and it works flawlessly, you can COMMIT and then PUSH your program to your GitHub acccount. Then copy that repository link and submit it to \"Non-graded Exercise #2: If-else and Loops\" submission box\n",
    "\n",
    "*** If you still have time and want to try something more, try using a list of multiple words that may have numbers and even special characters. For example, \"Oh, my God!\""
   ]
  },
  {
   "cell_type": "code",
   "execution_count": 1,
   "metadata": {},
   "outputs": [
    {
     "name": "stdout",
     "output_type": "stream",
     "text": [
      "Welcome to Hangman\n",
      "\n",
      "Attempts left: 10\n",
      "_ _ _ _ _\n",
      "Invalid character. Please enter a single alphabet letter.\n",
      "\n",
      "Attempts left: 10\n",
      "_ _ _ _ _\n",
      "Incorrect guess. Try again.\n",
      "\n",
      "Attempts left: 9\n",
      "_ _ _ _ _\n",
      "\n",
      "Attempts left: 9\n",
      "D _ _ _ _\n",
      "\n",
      "Attempts left: 9\n",
      "D a _ _ _\n",
      "\n",
      "Attempts left: 9\n",
      "D a v _ _\n",
      "\n",
      "Attempts left: 9\n",
      "D a v i _\n",
      "\n",
      "David\n",
      " \"Awesome! You guessed the word correctly.\"\n",
      "\"Thank you for playing.See you next time\"\n"
     ]
    },
    {
     "data": {
      "text/plain": [
       "True"
      ]
     },
     "execution_count": 1,
     "metadata": {},
     "output_type": "execute_result"
    }
   ],
   "source": [
    "import random\n",
    "\n",
    "def My_function():\n",
    "    print(\"Welcome to Hangman\")\n",
    "    word_list = [\"Alice\", \"Bob\", \"Cake\", \"David\"]\n",
    "    word_to_guess = random.choice(word_list)\n",
    "    guessed_word = ['_'] * len(word_to_guess)\n",
    "    attempts = 10\n",
    "    entered_letters = set()\n",
    "\n",
    "    while attempts > 0:\n",
    "        print(f\"\\nAttempts left: {attempts}\")\n",
    "        print(' '.join(guessed_word))\n",
    "        user_input = input(\"Guess a letter: \")\n",
    "\n",
    "        if not user_input.isalpha() or len(user_input) != 1:\n",
    "            print(\"Invalid character. Please enter a single alphabet letter.\")\n",
    "            continue\n",
    "\n",
    "        if user_input in entered_letters:\n",
    "            print(\"You have already guessed this letter. Try again.\")\n",
    "            continue\n",
    "\n",
    "        entered_letters.add(user_input)\n",
    "\n",
    "        if user_input in word_to_guess:\n",
    "            for index, letter in enumerate(word_to_guess):\n",
    "                if letter == user_input:\n",
    "                    guessed_word[index] = letter\n",
    "            if '_' not in guessed_word:\n",
    "                print(f'''\\n{word_to_guess}\\n \"Awesome! You guessed the word correctly.\"\\n\"Thank you for playing.See you next time\"''')\n",
    "                return True\n",
    "        else:\n",
    "            attempts -= 1\n",
    "            print(\"Incorrect guess. Try again.\")\n",
    "\n",
    "    print(\"Thank you for playing. Better luck next time.\")\n",
    "    return False\n",
    "\n",
    "My_function()\n",
    "\n",
    "\n"
   ]
  }
 ],
 "metadata": {
  "kernelspec": {
   "display_name": "Python 3",
   "language": "python",
   "name": "python3"
  },
  "language_info": {
   "codemirror_mode": {
    "name": "ipython",
    "version": 3
   },
   "file_extension": ".py",
   "mimetype": "text/x-python",
   "name": "python",
   "nbconvert_exporter": "python",
   "pygments_lexer": "ipython3",
   "version": "3.8.5"
  }
 },
 "nbformat": 4,
 "nbformat_minor": 2
}
